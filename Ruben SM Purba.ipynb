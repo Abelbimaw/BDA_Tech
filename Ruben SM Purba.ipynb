{
 "cells": [
  {
   "cell_type": "markdown",
   "id": "509fe27b",
   "metadata": {},
   "source": [
    "# About"
   ]
  },
  {
   "cell_type": "code",
   "execution_count": 3,
   "id": "85046de6",
   "metadata": {},
   "outputs": [],
   "source": [
    "import tkinter as tk\n",
    "window=tk.Tk()\n",
    "window.geometry(\"850x300\")\n",
    "label=tk.Label(\n",
    "    text=\"\"\"Halo, Program ini dibuat Oleh  BDA Tech merupakan Peserta Fresh Graduate Academy yang beranggotakan\\n\n",
    "    1. Abel Bima (S1 Teknik Telekomunikasi)\\n\n",
    "    2. Fauzan (S1 Informatika)\\n\n",
    "    3. Ruben SM Purba (S1 Teknik Telekomunikasi\\n\n",
    "    Sekian Dari Kami BDA Tech, Semoga Aplikasi Malware Detection Menggunakan Machine Learning Bermanfaat\\n\n",
    "    Terima Kasih\"\"\",\n",
    "    #width= 110,\n",
    "    #height=15,\n",
    "    bg=\"#bccbb8\",\n",
    "    fg=\"#000000\"\n",
    ")\n",
    "label.place(x=50,y=50)\n",
    "window.mainloop()"
   ]
  },
  {
   "cell_type": "markdown",
   "id": "43a7ab0e",
   "metadata": {},
   "source": [
    "# Button Upload"
   ]
  },
  {
   "cell_type": "code",
   "execution_count": 2,
   "id": "33a85829",
   "metadata": {},
   "outputs": [],
   "source": [
    "import tkinter as tk\n",
    "from tkinter import filedialog\n",
    "\n",
    "def UploadAction(event=None):\n",
    "    filename = filedialog.askopenfilename()#title=\"CSV\", filetypes=((\"CSV file\",\"*.csv\"),(\"All files\"),(\"*.*\")))#initialdir=os.getcwd(), title=\"CSV\", filetypes=((\"CSV file\",\"*.csv\"),(\"All files\"),(\"*.*\")))\n",
    "    print('Selected:', filename)\n",
    "\n",
    "#def importcsv():\n",
    "   # mydata.clear()\n",
    "   # filename=filedialog.askopenfilename( title=\"CSV\", filetypes=((\"CSV file\",\"*.csv\"),(\"All files\"),(\"*.*\")))\n",
    "   # with open(filename)as myfile:\n",
    "      #  csvread=csv.reader(myfile,delimiter=\",\")\n",
    "        #for i in csvread:\n",
    "         #   mydata.append()\n",
    "root = tk.Tk()\n",
    "root.title('Import CSV')\n",
    "root.geometry(\"500x500\")\n",
    "button = tk.Button(root, text='Pilih File Yang akan di Upload',\n",
    "    width=25,\n",
    "    height=5,\n",
    "    bg=\"blue\",\n",
    "    fg=\"red\", \n",
    "            command=UploadAction)\n",
    "\n",
    "button.place(x=50,y=250 ,width=400,height=25)\n",
    "\n",
    "root.mainloop()"
   ]
  },
  {
   "cell_type": "markdown",
   "id": "38faba7d",
   "metadata": {},
   "source": [
    "# About Menggunakan Gambar"
   ]
  },
  {
   "cell_type": "code",
   "execution_count": 6,
   "id": "a490844e",
   "metadata": {},
   "outputs": [],
   "source": [
    "#Import the required Libraries\n",
    "from tkinter import *\n",
    "from PIL import Image,ImageTk\n",
    "\n",
    "#Create an instance of tkinter frame\n",
    "win = Tk()\n",
    "\n",
    "#Set the geometry of tkinter frame\n",
    "win.geometry(\"320x250\")\n",
    "\n",
    "#Create a canvas\n",
    "canvas= Canvas(win, width= 400, height= 400)\n",
    "canvas.pack()\n",
    "\n",
    "#Load an image in the script\n",
    "img= (Image.open(\"MAlware detection.png\"))\n",
    "\n",
    "#Resize the Image using resize method\n",
    "resized_image= img.resize((300,205), Image.ANTIALIAS)\n",
    "new_image= ImageTk.PhotoImage(resized_image)\n",
    "\n",
    "#Add image to the Canvas Items\n",
    "canvas.create_image(10,10, anchor=NW, image=new_image)\n",
    "\n",
    "win.mainloop()"
   ]
  },
  {
   "cell_type": "code",
   "execution_count": 12,
   "id": "bad5a2a3",
   "metadata": {},
   "outputs": [],
   "source": [
    "#Import the required Libraries\n",
    "from tkinter import *\n",
    "from PIL import Image,ImageTk\n",
    "\n",
    "#Create an instance of tkinter frame\n",
    "win = Tk()\n",
    "\n",
    "#Set the geometry of tkinter frame\n",
    "win.geometry(\"1024x768\")\n",
    "\n",
    "#Create a canvas\n",
    "canvas= Canvas(win, width= 1024, height= 768)\n",
    "canvas.pack()\n",
    "\n",
    "#Load an image in the script\n",
    "img= (Image.open(\"MAlware detection.png\"))\n",
    "\n",
    "#Resize the Image using resize method\n",
    "resized_image= img.resize((1024,768), Image.ANTIALIAS)\n",
    "new_image= ImageTk.PhotoImage(resized_image)\n",
    "\n",
    "#Add image to the Canvas Items\n",
    "canvas.create_image(10,10, anchor=NW, image=new_image)\n",
    "\n",
    "win.mainloop()"
   ]
  }
 ],
 "metadata": {
  "kernelspec": {
   "display_name": "Python 3",
   "language": "python",
   "name": "python3"
  },
  "language_info": {
   "codemirror_mode": {
    "name": "ipython",
    "version": 3
   },
   "file_extension": ".py",
   "mimetype": "text/x-python",
   "name": "python",
   "nbconvert_exporter": "python",
   "pygments_lexer": "ipython3",
   "version": "3.8.11"
  }
 },
 "nbformat": 4,
 "nbformat_minor": 5
}
