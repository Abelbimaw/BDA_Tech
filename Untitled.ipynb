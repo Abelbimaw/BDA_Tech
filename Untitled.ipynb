{
 "cells": [
  {
   "cell_type": "code",
   "execution_count": 1,
   "metadata": {},
   "outputs": [],
   "source": [
    "import numpy as np # linear algebra\n",
    "import pandas as pd # data processing, CSV file I/O (e.g. pd.read_csv)\n",
    "import pickle\n",
    "import seaborn as sns\n",
    "import matplotlib.pyplot as plt\n",
    "from sklearn.ensemble import RandomForestClassifier\n",
    "from sklearn.model_selection import train_test_split\n",
    "from sklearn.metrics import classification_report, confusion_matrix"
   ]
  },
  {
   "cell_type": "code",
   "execution_count": 4,
   "metadata": {},
   "outputs": [
    {
     "name": "stderr",
     "output_type": "stream",
     "text": [
      "E:\\Users\\fauzanhikmahramadhan\\Anaconda3\\envs\\python388\\lib\\site-packages\\seaborn\\_decorators.py:36: FutureWarning: Pass the following variable as a keyword arg: x. From version 0.12, the only valid positional argument will be `data`, and passing other arguments without an explicit keyword will result in an error or misinterpretation.\n",
      "  warnings.warn(\n"
     ]
    },
    {
     "data": {
      "text/plain": [
       "[Text(0, 0, 'Benign'), Text(1, 0, 'Malware')]"
      ]
     },
     "execution_count": 4,
     "metadata": {},
     "output_type": "execute_result"
    }
   ],
   "source": [
    "data = pd.read_csv('dataset_malwares.csv')\n",
    "used_data = data.drop(['Name', 'Machine', 'TimeDateStamp', 'Malware'], axis=1)\n",
    "\n",
    "plt.figure(figsize=(8, 6))\n",
    "ax=sns.countplot(data['Malware'])\n",
    "ax.set_xticklabels(['Benign', 'Malware'])"
   ]
  },
  {
   "cell_type": "code",
   "execution_count": 5,
   "metadata": {},
   "outputs": [
    {
     "data": {
      "image/png": "[encoded data removed]",
      "text/plain": [
       "<Figure size 800x600 with 1 Axes>"
      ]
     },
     "metadata": {},
     "output_type": "display_data"
    }
   ],
   "source": [
    "plt.show()"
   ]
  },
  {
   "cell_type": "code",
   "execution_count": 6,
   "metadata": {},
   "outputs": [],
   "source": [
    "X_train, X_test, y_train, y_test = train_test_split(used_data, data['Malware'], test_size=0.2, random_state=0)"
   ]
  },
  {
   "cell_type": "code",
   "execution_count": 7,
   "metadata": {},
   "outputs": [
    {
     "data": {
      "text/plain": [
       "RandomForestClassifier(max_depth=16, oob_score=True, random_state=0)"
      ]
     },
     "execution_count": 7,
     "metadata": {},
     "output_type": "execute_result"
    }
   ],
   "source": [
    "rfc = RandomForestClassifier(n_estimators=100, random_state=0, \n",
    "                         oob_score = True,\n",
    "                         max_depth = 16)\n",
    "rfc.fit(X_train, y_train)"
   ]
  },
  {
   "cell_type": "code",
   "execution_count": 8,
   "metadata": {},
   "outputs": [],
   "source": [
    "y_pred = rfc.predict(X_test)"
   ]
  },
  {
   "cell_type": "code",
   "execution_count": 9,
   "metadata": {},
   "outputs": [
    {
     "name": "stdout",
     "output_type": "stream",
     "text": [
      "              precision    recall  f1-score   support\n",
      "\n",
      "      Benign       0.99      0.96      0.97      1004\n",
      "     Malware       0.99      1.00      0.99      2919\n",
      "\n",
      "    accuracy                           0.99      3923\n",
      "   macro avg       0.99      0.98      0.98      3923\n",
      "weighted avg       0.99      0.99      0.99      3923\n",
      "\n"
     ]
    }
   ],
   "source": [
    "print(classification_report(y_test, y_pred, target_names=['Benign', 'Malware']))"
   ]
  },
  {
   "cell_type": "code",
   "execution_count": 11,
   "metadata": {},
   "outputs": [
    {
     "data": {
      "image/png": "[encoded data removed]",
      "text/plain": [
       "<Figure size 640x480 with 1 Axes>"
      ]
     },
     "metadata": {},
     "output_type": "display_data"
    }
   ],
   "source": [
    "ax=sns.heatmap(confusion_matrix(y_pred, y_test), annot=True, fmt=\"d\", cmap=plt.cm.Blues, cbar=False)\n",
    "ax.set_xlabel('Predicted labels')\n",
    "ax.set_ylabel('True labels')\n",
    "plt.show()"
   ]
  },
  {
   "cell_type": "code",
   "execution_count": 8,
   "metadata": {},
   "outputs": [
    {
     "name": "stdout",
     "output_type": "stream",
     "text": [
      "3.8.11\n"
     ]
    }
   ],
   "source": [
    "from platform import python_version\n",
    "\n",
    "print(python_version())"
   ]
  },
  {
   "cell_type": "code",
   "execution_count": 21,
   "metadata": {},
   "outputs": [],
   "source": [
    "from tkinter import *\n",
    "from tkinter.ttk import *\n",
    "from tkinter.filedialog import askopenfile \n",
    "import time\n",
    "\n",
    "ws = Tk()\n",
    "ws.title('Deteksi Malware menggunakan Machine Learning')\n",
    "ws.geometry('400x200') \n",
    "\n",
    "\n",
    "def open_file():\n",
    "    file_path = askopenfile(mode='r', filetypes=[('Image Files', '*png')])\n",
    "    if file_path is not None:\n",
    "        pass\n",
    "\n",
    "\n",
    "def uploadFiles():\n",
    "    pb1 = Progressbar(\n",
    "        ws, \n",
    "        orient=HORIZONTAL, \n",
    "        length=300, \n",
    "        mode='determinate'\n",
    "        )\n",
    "    pb1.grid(row=4, columnspan=3, pady=20)\n",
    "    for i in range(5):\n",
    "        ws.update_idletasks()\n",
    "        pb1['value'] += 20\n",
    "        time.sleep(1)\n",
    "    pb1.destroy()\n",
    "    Label(ws, text='File Uploaded Successfully!', foreground='green').grid(row=4, columnspan=3, pady=10)\n",
    "        \n",
    "    \n",
    "    \n",
    "adhar = Label(\n",
    "    ws, \n",
    "    text='Upload File Harus Dalam Bentuk File CSV'\n",
    "    )\n",
    "adhar.grid(row=0, column=0, padx=10)\n",
    "\n",
    "adharbtn = Button(\n",
    "    ws, \n",
    "    text ='Choose File', \n",
    "    command = lambda:open_file()\n",
    "    ) \n",
    "adharbtn.grid(row=0, column=1)\n",
    "\n",
    "dl = Label(\n",
    "    ws, \n",
    "    text='Upload Driving License in jpg format '\n",
    "    )\n",
    "dl.grid(row=1, column=0, padx=10)\n",
    "\n",
    "dlbtn = Button(\n",
    "    ws, \n",
    "    text ='Choose File ', \n",
    "    command = lambda:open_file()\n",
    "    ) \n",
    "dlbtn.grid(row=1, column=1)\n",
    "\n",
    "ms = Label(\n",
    "    ws, \n",
    "    text='Upload Marksheet in jpg format '\n",
    "    )\n",
    "ms.grid(row=2, column=0, padx=10)\n",
    "\n",
    "msbtn = Button(\n",
    "    ws, \n",
    "    text ='Choose File', \n",
    "    command = lambda:open_file()\n",
    "    ) \n",
    "msbtn.grid(row=2, column=1)\n",
    "\n",
    "upld = Button(\n",
    "    ws, \n",
    "    text='Upload Files', \n",
    "    command=uploadFiles\n",
    "    )\n",
    "upld.grid(row=3, columnspan=3, pady=10)\n",
    "\n",
    "\n",
    "\n",
    "ws.mainloop()"
   ]
  },
  {
   "cell_type": "code",
   "execution_count": 12,
   "metadata": {},
   "outputs": [],
   "source": [
    "\n",
    "# Python program to create\n",
    "# a file explorer in Tkinter\n",
    "  \n",
    "# import all components\n",
    "# from the tkinter library\n",
    "from tkinter import *\n",
    "  \n",
    "# import filedialog module\n",
    "from tkinter import filedialog\n",
    "  \n",
    "# Function for opening the\n",
    "# file explorer window\n",
    "def browseFiles():\n",
    "    filename = filedialog.askopenfilename(initialdir = \"/\",\n",
    "                                          title = \"Select a File\",\n",
    "                                          filetypes = ((\"CSV Files\",\n",
    "                                                        \"*.csv*\"),\n",
    "                                                       (\"all files\",\n",
    "                                                        \"*.*\")))\n",
    "      \n",
    "    # Change label contents\n",
    "    label_file_explorer.configure(text=\"File Opened: \"+filename)\n",
    "      \n",
    "      \n",
    "def inputData():\n",
    "    data = pd.read_csv('dataset_malwares.csv')\n",
    "\n",
    "def draw_table(data):\n",
    "    columns = list(data.columns)\n",
    "    \n",
    "\n",
    "# Create the root window\n",
    "window = Tk()\n",
    "  \n",
    "# Set window title\n",
    "window.title('File Explorer')\n",
    "  \n",
    "# Set window size\n",
    "window.geometry(\"700x500\")\n",
    "  \n",
    "#Set window background color\n",
    "window.config(background = \"white\")\n",
    "  \n",
    "# Create a File Explorer label\n",
    "label_file_explorer = Label(window,\n",
    "                            text = \"File Explorer using Tkinter\",\n",
    "                            width = 100, height = 4,\n",
    "                            fg = \"blue\")\n",
    "  \n",
    "      \n",
    "button_explore = Button(window,\n",
    "                        text = \"Browse Files\",\n",
    "                        command = browseFiles)\n",
    "  \n",
    "button_exit = Button(window,\n",
    "                     text = \"Exit\",\n",
    "                     command = exit)\n",
    "\n",
    "button_df = Button(window,\n",
    "                   text = \"DataFrame\",\n",
    "                   command = inputData)\n",
    "  \n",
    "# Grid method is chosen for placing\n",
    "# the widgets at respective positions\n",
    "# in a table like structure by\n",
    "# specifying rows and columns\n",
    "label_file_explorer.grid(column = 1, row = 1)\n",
    "  \n",
    "button_explore.grid(column = 1, row = 2)\n",
    "  \n",
    "button_exit.grid(column = 1,row = 3)\n",
    "\n",
    "button_df.grid(column = 1,row=4)\n",
    "  \n",
    "# Let the window wait for any events\n",
    "window.mainloop()"
   ]
  },
  {
   "cell_type": "code",
   "execution_count": null,
   "metadata": {},
   "outputs": [
    {
     "name": "stderr",
     "output_type": "stream",
     "text": [
      "Exception in Tkinter callback\n",
      "Traceback (most recent call last):\n",
      "  File \"E:\\Users\\fauzanhikmahramadhan\\Anaconda3\\lib\\tkinter\\__init__.py\", line 1883, in __call__\n",
      "    return self.func(*args)\n",
      "  File \"<ipython-input-13-4855d6d8e2ec>\", line 31, in data\n",
      "    file1 = pd.read_csv(filename)\n",
      "  File \"E:\\Users\\fauzanhikmahramadhan\\Anaconda3\\lib\\site-packages\\pandas\\io\\parsers.py\", line 686, in read_csv\n",
      "    return _read(filepath_or_buffer, kwds)\n",
      "  File \"E:\\Users\\fauzanhikmahramadhan\\Anaconda3\\lib\\site-packages\\pandas\\io\\parsers.py\", line 452, in _read\n",
      "    parser = TextFileReader(fp_or_buf, **kwds)\n",
      "  File \"E:\\Users\\fauzanhikmahramadhan\\Anaconda3\\lib\\site-packages\\pandas\\io\\parsers.py\", line 946, in __init__\n",
      "    self._make_engine(self.engine)\n",
      "  File \"E:\\Users\\fauzanhikmahramadhan\\Anaconda3\\lib\\site-packages\\pandas\\io\\parsers.py\", line 1178, in _make_engine\n",
      "    self._engine = CParserWrapper(self.f, **self.options)\n",
      "  File \"E:\\Users\\fauzanhikmahramadhan\\Anaconda3\\lib\\site-packages\\pandas\\io\\parsers.py\", line 2008, in __init__\n",
      "    self._reader = parsers.TextReader(src, **kwds)\n",
      "  File \"pandas\\_libs\\parsers.pyx\", line 382, in pandas._libs.parsers.TextReader.__cinit__\n",
      "  File \"pandas\\_libs\\parsers.pyx\", line 674, in pandas._libs.parsers.TextReader._setup_parser_source\n",
      "FileNotFoundError: [Errno 2] No such file or directory: ''\n",
      "Exception in Tkinter callback\n",
      "Traceback (most recent call last):\n",
      "  File \"E:\\Users\\fauzanhikmahramadhan\\Anaconda3\\lib\\tkinter\\__init__.py\", line 1883, in __call__\n",
      "    return self.func(*args)\n",
      "  File \"<ipython-input-13-4855d6d8e2ec>\", line 86, in sol\n",
      "    X = file1.iloc[:,X_values.x1].values\n",
      "AttributeError: 'function' object has no attribute 'x1'\n"
     ]
    },
    {
     "name": "stdout",
     "output_type": "stream",
     "text": [
      "6\n",
      "[0, 1, 2, 3, 4, 5]\n"
     ]
    },
    {
     "name": "stderr",
     "output_type": "stream",
     "text": [
      "Exception in Tkinter callback\n",
      "Traceback (most recent call last):\n",
      "  File \"E:\\Users\\fauzanhikmahramadhan\\Anaconda3\\lib\\tkinter\\__init__.py\", line 1883, in __call__\n",
      "    return self.func(*args)\n",
      "  File \"<ipython-input-13-4855d6d8e2ec>\", line 87, in sol\n",
      "    y = file1.iloc[:,y_values.y1].values\n",
      "AttributeError: 'function' object has no attribute 'y1'\n"
     ]
    },
    {
     "name": "stdout",
     "output_type": "stream",
     "text": [
      "1\n",
      "[0]\n",
      "1\n",
      "[0]\n",
      "1\n",
      "[0]\n",
      "1\n",
      "[0]\n",
      "1\n",
      "[0]\n"
     ]
    },
    {
     "name": "stderr",
     "output_type": "stream",
     "text": [
      "Exception in Tkinter callback\n",
      "Traceback (most recent call last):\n",
      "  File \"E:\\Users\\fauzanhikmahramadhan\\Anaconda3\\lib\\tkinter\\__init__.py\", line 1883, in __call__\n",
      "    return self.func(*args)\n",
      "  File \"<ipython-input-13-4855d6d8e2ec>\", line 87, in sol\n",
      "    y = file1.iloc[:,y_values.y1].values\n",
      "AttributeError: 'function' object has no attribute 'y1'\n"
     ]
    }
   ],
   "source": [
    "from tkinter import *\n",
    "from tkinter.filedialog import askopenfilename\n",
    "import csv\n",
    "import os\n",
    "from tkinter import ttk\n",
    "import time\n",
    "\n",
    "gui = Tk()\n",
    "\n",
    "gui.title('Machine Learning GUI')\n",
    "\n",
    "gui.geometry('600x600')\n",
    "\n",
    "progress_bar = ttk.Progressbar(orient = 'horizontal', length=600, mode='determinate')\n",
    "progress_bar.grid(row=150, columnspan=3, pady =10)\n",
    "\n",
    "\n",
    "def data():\n",
    "    global filename\n",
    "    filename = askopenfilename(initialdir='C:\\\\',title = \"Select file\")\n",
    "    e1.delete(0, END)\n",
    "    e1.insert(0, filename)\n",
    "    #e1.config(text=filename)\n",
    "    #print(filename)\n",
    "\n",
    "\n",
    "\n",
    "    import pandas as pd\n",
    "    global file1\n",
    "\n",
    "    file1 = pd.read_csv(filename)\n",
    "\n",
    "    global col\n",
    "    col = list(file1.head(0))\n",
    "    #print(col)\n",
    "\n",
    "    for i in range(len(col)):\n",
    "        box1.insert(i+1, col[i])\n",
    "\n",
    "def X_values():\n",
    "\n",
    "    values = [box1.get(idx) for idx in box1.curselection()]\n",
    "    for i in range(len(list(values))):\n",
    "        box2.insert(i+1, values[i])\n",
    "        box1.selection_clear(i+1, END)\n",
    "    X_values.x1=[]\n",
    "    for j in range(len(values)):X_values.x1.append(j)\n",
    "\n",
    "    global x_size\n",
    "    x_size = len(X_values.x1)\n",
    "    print(x_size)\n",
    "\n",
    "\n",
    "    print(X_values.x1)\n",
    "\n",
    "\n",
    "\n",
    "def y_values():\n",
    "    values= [box1.get(idx) for idx in box1.curselection()]\n",
    "    for i in range(len(list(values))):\n",
    "        box3.insert(i+1, values[i])\n",
    "    y_values.y1=[]\n",
    "    for j in range(len(values)):y_values.y1.append(j)\n",
    "\n",
    "\n",
    "    print(y_values.y1)\n",
    "\n",
    "\n",
    "def clear():\n",
    "    pass\n",
    "\n",
    "def sol():\n",
    "    progress()\n",
    "   \n",
    "    from sklearn.model_selection import cross_val_score,train_test_split,KFold\n",
    "    from sklearn.neighbors import KNeighborsClassifier\n",
    "    from sklearn.svm import SVC\n",
    "    from sklearn.linear_model import LogisticRegression\n",
    "    from sklearn.tree import DecisionTreeClassifier\n",
    "    from sklearn.naive_bayes import GaussianNB\n",
    "    from matplotlib import pyplot as plt\n",
    "   \n",
    "\n",
    "\n",
    "\n",
    "    X = file1.iloc[:,X_values.x1].values\n",
    "    y = file1.iloc[:,y_values.y1].values\n",
    "\n",
    "    y = y.reshape((-1,))\n",
    "\n",
    "    from sklearn.preprocessing import LabelEncoder, OneHotEncoder\n",
    "\n",
    "    le =LabelEncoder()\n",
    "    hotlist =[]\n",
    "    \n",
    "    for i in range(X.shape[1]):\n",
    "        if isinstance(X[1,i], str):\n",
    "            X[:,i] = le.fit_transform(X[:,i])\n",
    "            hotlist.append(i)\n",
    "            #print('hello')\n",
    "    #print(X)\n",
    "    #print(hotlist)\n",
    "\n",
    "    onehot = OneHotEncoder(categorical_features=hotlist)\n",
    "    X = onehot.fit_transform(X).toarray()\n",
    "\n",
    "    from sklearn.preprocessing import StandardScaler\n",
    "\n",
    "    sc = StandardScaler()\n",
    "\n",
    "    X = sc.fit_transform(X) \n",
    "\n",
    "  \n",
    "    kfold=KFold(10,random_state=7)\n",
    "    models=[]\n",
    "    models.append((\"KNN\",KNeighborsClassifier()))\n",
    "    models.append((\"NB\",GaussianNB()))\n",
    "    #models.append((\"LG\",LogisticRegression()))\n",
    "    models.append((\"Tree\",DecisionTreeClassifier()))\n",
    "    #models.append((\"SVM\",SVC()))\n",
    "    results=[]\n",
    "    names=[]\n",
    "    scoring='accuracy'\n",
    "    for name,model in models:\n",
    "\t    kfold=KFold(n_splits=5,random_state=5) \n",
    "\t    v=cross_val_score(model,X,y,cv=kfold,scoring=scoring)\n",
    "\t    results.append(v)\n",
    "\t    names.append(name)\n",
    "\t    print(name)\n",
    "\t    print(v)\n",
    "    fig=plt.figure()\n",
    "    fig.suptitle('Algorithm Comparison')\n",
    "    ax=fig.add_subplot(111)\n",
    "    plt.boxplot(results)\n",
    "    ax.set_xticklabels(names)\n",
    "    plt.show()\n",
    "\n",
    "    #stop_progressbar()\n",
    "\n",
    "def progress():\n",
    "    progress_bar['maximum']=100\n",
    "\n",
    "    for i in range(101):\n",
    "        time.sleep(0.01)\n",
    "        progress_bar['value'] = i\n",
    "        progress_bar.update()\n",
    "\n",
    "    progress_bar['value'] = 0\n",
    "'''\n",
    "def start_progressbar():\n",
    "    a = progress()\n",
    "    a.progress_bar.start()\n",
    "\n",
    "def stop_progressbar():\n",
    "    a = progress()\n",
    "    a.progress_bar.stop()\n",
    "\n",
    "def twofunc():\n",
    "    progress()\n",
    "    sol()\n",
    "    \n",
    "'''\n",
    "\n",
    "l1=Label(gui, text='Select Data File')\n",
    "l1.grid(row=0, column=0)\n",
    "e1 = Entry(gui,text='')\n",
    "e1.grid(row=0, column=1)\n",
    "\n",
    "Button(gui,text='open', command=data).grid(row=0, column=2)\n",
    "\n",
    "box1 = Listbox(gui,selectmode='multiple')\n",
    "box1.grid(row=10, column=0)\n",
    "Button(gui, text='Clear All',command=clear).grid(row=12,column=0)\n",
    "\n",
    "box2 = Listbox(gui)\n",
    "box2.grid(row=10, column=1)\n",
    "Button(gui, text='Select X', command=X_values).grid(row=12,column=1)\n",
    "\n",
    "box3 = Listbox(gui)\n",
    "box3.grid(row=10, column=2) \n",
    "Button(gui, text='Select y', command=y_values).grid(row=12,column=2)\n",
    "\n",
    "Button(gui, text='Solution', command=sol).grid(row=20, column=1)\n",
    "\n",
    "\n",
    "\n",
    "\n",
    "\n",
    "gui.mainloop()"
   ]
  },
  {
   "cell_type": "code",
   "execution_count": null,
   "metadata": {},
   "outputs": [],
   "source": []
  }
 ],
 "metadata": {
  "kernelspec": {
   "display_name": "Python 3",
   "language": "python",
   "name": "python3"
  },
  "language_info": {
   "codemirror_mode": {
    "name": "ipython",
    "version": 3
   },
   "file_extension": ".py",
   "mimetype": "text/x-python",
   "name": "python",
   "nbconvert_exporter": "python",
   "pygments_lexer": "ipython3",
   "version": "3.8.5"
  }
 },
 "nbformat": 4,
 "nbformat_minor": 5
}
